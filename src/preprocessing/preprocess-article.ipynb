{
 "cells": [
  {
   "cell_type": "markdown",
   "id": "7e851a26",
   "metadata": {},
   "source": [
    "# File Description:\n",
    "##### • This file holds the code to pre-process the dataset and the texts especially, article column.\n",
    "\n",
    "# Importing necesary libraries"
   ]
  },
  {
   "cell_type": "code",
   "execution_count": 1,
   "id": "4d26f788",
   "metadata": {},
   "outputs": [],
   "source": [
    "import polars, re"
   ]
  },
  {
   "cell_type": "code",
   "execution_count": 11,
   "id": "f3fe20e5",
   "metadata": {},
   "outputs": [
    {
     "data": {
      "text/html": [
       "<div><style>\n",
       ".dataframe > thead > tr,\n",
       ".dataframe > tbody > tr {\n",
       "  text-align: right;\n",
       "  white-space: pre-wrap;\n",
       "}\n",
       "</style>\n",
       "<small>shape: (5, 3)</small><table border=\"1\" class=\"dataframe\"><thead><tr><th>article</th><th>highlights</th><th>id</th></tr><tr><td>str</td><td>str</td><td>str</td></tr></thead><tbody><tr><td>&quot;LONDON, England (Reuters) -- H…</td><td>&quot;Harry Potter star Daniel Radcl…</td><td>&quot;42c027e4ff9730fbb3de84c1af0d2c…</td></tr><tr><td>&quot;Editor&#x27;s note: In our Behind t…</td><td>&quot;Mentally ill inmates in Miami …</td><td>&quot;ee8871b15c50d0db17b0179a6d2bea…</td></tr><tr><td>&quot;MINNEAPOLIS, Minnesota (CNN) -…</td><td>&quot;NEW: &quot;I thought I was going to…</td><td>&quot;06352019a19ae31e527f37f7571c6d…</td></tr><tr><td>&quot;WASHINGTON (CNN) -- Doctors re…</td><td>&quot;Five small polyps found during…</td><td>&quot;24521a2abb2e1f5e34e6824e0f9e56…</td></tr><tr><td>&quot;(CNN)&nbsp;&nbsp;-- The National Footbal…</td><td>&quot;NEW: NFL chief, Atlanta Falcon…</td><td>&quot;7fe70cc8b12fab2d0a258fababf7d9…</td></tr></tbody></table></div>"
      ],
      "text/plain": [
       "shape: (5, 3)\n",
       "┌────────────────────────────────┬────────────────────────────────┬────────────────────────────────┐\n",
       "│ article                        ┆ highlights                     ┆ id                             │\n",
       "│ ---                            ┆ ---                            ┆ ---                            │\n",
       "│ str                            ┆ str                            ┆ str                            │\n",
       "╞════════════════════════════════╪════════════════════════════════╪════════════════════════════════╡\n",
       "│ LONDON, England (Reuters) --   ┆ Harry Potter star Daniel       ┆ 42c027e4ff9730fbb3de84c1af0d2c │\n",
       "│ H…                             ┆ Radcl…                         ┆ …                              │\n",
       "│ Editor's note: In our Behind   ┆ Mentally ill inmates in Miami  ┆ ee8871b15c50d0db17b0179a6d2bea │\n",
       "│ t…                             ┆ …                              ┆ …                              │\n",
       "│ MINNEAPOLIS, Minnesota (CNN)   ┆ NEW: \"I thought I was going    ┆ 06352019a19ae31e527f37f7571c6d │\n",
       "│ -…                             ┆ to…                            ┆ …                              │\n",
       "│ WASHINGTON (CNN) -- Doctors    ┆ Five small polyps found        ┆ 24521a2abb2e1f5e34e6824e0f9e56 │\n",
       "│ re…                            ┆ during…                        ┆ …                              │\n",
       "│ (CNN)  -- The National         ┆ NEW: NFL chief, Atlanta        ┆ 7fe70cc8b12fab2d0a258fababf7d9 │\n",
       "│ Footbal…                       ┆ Falcon…                        ┆ …                              │\n",
       "└────────────────────────────────┴────────────────────────────────┴────────────────────────────────┘"
      ]
     },
     "execution_count": 11,
     "metadata": {},
     "output_type": "execute_result"
    }
   ],
   "source": [
    "dataset = polars.read_csv('../../datasets/News dataset.csv')\n",
    "dataset.head()"
   ]
  },
  {
   "cell_type": "code",
   "execution_count": 12,
   "id": "a5b89715",
   "metadata": {},
   "outputs": [
    {
     "data": {
      "text/plain": [
       "(311971, 3)"
      ]
     },
     "execution_count": 12,
     "metadata": {},
     "output_type": "execute_result"
    }
   ],
   "source": [
    "dataset.shape"
   ]
  },
  {
   "cell_type": "markdown",
   "id": "291d193d",
   "metadata": {},
   "source": [
    "# Objectives:\n",
    "<ol type='a'>\n",
    "    <li>Check for missing values</li>\n",
    "    <li>Removing unwanted columns</li>\n",
    "    <li>Removing any unwanted spaces from the article column</li>\n",
    "    <li>Replacing curly apostrophes and special quotes with standard UTF-8 apostrophes (e.g., ’ → ')</li>\n",
    "    <li>Removing apostrophes if necessary for normalization</li>\n",
    "    <li>Removing author name and publishing/update date as they are noisy data</li>\n",
    "    <li>Removing legal disclaimers, copyright notices, and redistribution warnings</li>\n",
    "    <li>Removing attribution or contribution credits (e.g., “CNN’s John Doe contributed to this report.”)</li>\n",
    "    <li>Removing email addresses and social media handles (e.g., @CNN)</li>\n",
    "    <li>Removing hyperlinks and web URLs from the text</li>\n",
    "    <li>Removing source tags and image credits like (Reuters), (AP), (Getty)</li>\n",
    "    <li>Removing redundant phrases like “Scroll down for video”, “Read more at”, “Related Articles”</li>\n",
    "    <li>Removing text enclosed in square or curly brackets (e.g., [Editor’s note])</li>\n",
    "    <li>Removing HTML tags if present</li>\n",
    "    <li>Normalizing multiple dots, pipes, and extra spaces or newlines</li>\n",
    "</ol>\n",
    "\n"
   ]
  },
  {
   "cell_type": "markdown",
   "id": "5da80885",
   "metadata": {},
   "source": [
    "# Checking for mising values"
   ]
  },
  {
   "cell_type": "code",
   "execution_count": 13,
   "id": "7fdc89c4",
   "metadata": {},
   "outputs": [
    {
     "data": {
      "text/html": [
       "<div><style>\n",
       ".dataframe > thead > tr,\n",
       ".dataframe > tbody > tr {\n",
       "  text-align: right;\n",
       "  white-space: pre-wrap;\n",
       "}\n",
       "</style>\n",
       "<small>shape: (1, 3)</small><table border=\"1\" class=\"dataframe\"><thead><tr><th>article</th><th>highlights</th><th>id</th></tr><tr><td>u32</td><td>u32</td><td>u32</td></tr></thead><tbody><tr><td>0</td><td>0</td><td>0</td></tr></tbody></table></div>"
      ],
      "text/plain": [
       "shape: (1, 3)\n",
       "┌─────────┬────────────┬─────┐\n",
       "│ article ┆ highlights ┆ id  │\n",
       "│ ---     ┆ ---        ┆ --- │\n",
       "│ u32     ┆ u32        ┆ u32 │\n",
       "╞═════════╪════════════╪═════╡\n",
       "│ 0       ┆ 0          ┆ 0   │\n",
       "└─────────┴────────────┴─────┘"
      ]
     },
     "execution_count": 13,
     "metadata": {},
     "output_type": "execute_result"
    }
   ],
   "source": [
    "dataset.null_count()"
   ]
  },
  {
   "cell_type": "markdown",
   "id": "9c818935",
   "metadata": {},
   "source": [
    "# Removing unwanted columns"
   ]
  },
  {
   "cell_type": "code",
   "execution_count": 14,
   "id": "14e11f95",
   "metadata": {},
   "outputs": [
    {
     "data": {
      "text/html": [
       "<div><style>\n",
       ".dataframe > thead > tr,\n",
       ".dataframe > tbody > tr {\n",
       "  text-align: right;\n",
       "  white-space: pre-wrap;\n",
       "}\n",
       "</style>\n",
       "<small>shape: (5, 2)</small><table border=\"1\" class=\"dataframe\"><thead><tr><th>article</th><th>highlights</th></tr><tr><td>str</td><td>str</td></tr></thead><tbody><tr><td>&quot;LONDON, England (Reuters) -- H…</td><td>&quot;Harry Potter star Daniel Radcl…</td></tr><tr><td>&quot;Editor&#x27;s note: In our Behind t…</td><td>&quot;Mentally ill inmates in Miami …</td></tr><tr><td>&quot;MINNEAPOLIS, Minnesota (CNN) -…</td><td>&quot;NEW: &quot;I thought I was going to…</td></tr><tr><td>&quot;WASHINGTON (CNN) -- Doctors re…</td><td>&quot;Five small polyps found during…</td></tr><tr><td>&quot;(CNN)&nbsp;&nbsp;-- The National Footbal…</td><td>&quot;NEW: NFL chief, Atlanta Falcon…</td></tr></tbody></table></div>"
      ],
      "text/plain": [
       "shape: (5, 2)\n",
       "┌─────────────────────────────────┬─────────────────────────────────┐\n",
       "│ article                         ┆ highlights                      │\n",
       "│ ---                             ┆ ---                             │\n",
       "│ str                             ┆ str                             │\n",
       "╞═════════════════════════════════╪═════════════════════════════════╡\n",
       "│ LONDON, England (Reuters) -- H… ┆ Harry Potter star Daniel Radcl… │\n",
       "│ Editor's note: In our Behind t… ┆ Mentally ill inmates in Miami … │\n",
       "│ MINNEAPOLIS, Minnesota (CNN) -… ┆ NEW: \"I thought I was going to… │\n",
       "│ WASHINGTON (CNN) -- Doctors re… ┆ Five small polyps found during… │\n",
       "│ (CNN)  -- The National Footbal… ┆ NEW: NFL chief, Atlanta Falcon… │\n",
       "└─────────────────────────────────┴─────────────────────────────────┘"
      ]
     },
     "execution_count": 14,
     "metadata": {},
     "output_type": "execute_result"
    }
   ],
   "source": [
    "dataset = dataset.drop('id')\n",
    "dataset.head()"
   ]
  },
  {
   "cell_type": "markdown",
   "id": "74bbe491",
   "metadata": {},
   "source": [
    "# Performing Objectives (from c to o)"
   ]
  },
  {
   "cell_type": "code",
   "execution_count": 24,
   "id": "48ef2f05",
   "metadata": {},
   "outputs": [],
   "source": [
    "def clean_article(text):\n",
    "    # Normalize apostrophes\n",
    "    text = text.replace(\"’\", \"'\").replace(\"‘\", \"'\")\n",
    "\n",
    "    # Remove \"By Author\" lines\n",
    "    text = re.sub(r'by\\s+[\\w\\s\\.,]+(?:\\n|\\|)', '', text, flags=re.IGNORECASE)\n",
    "\n",
    "    # Remove PUBLISHED/UPDATED timestamps\n",
    "    text = re.sub(r'(PUBLISHED|UPDATED|Last updated).*?(\\n|\\.|$)', '', text, flags=re.IGNORECASE)\n",
    "\n",
    "    # Remove legal disclaimers, copyrights, and redistribution warnings\n",
    "    text = re.sub(r'(e-?mail to a friend.*?|all rights reserved.*?|this material may not be published.*?|copyright \\d{4}.*?|©\\s*\\d{4}.*?)($|\\n|\\.)', '', text, flags=re.IGNORECASE)\n",
    "\n",
    "    # Remove email addresses and Twitter handles\n",
    "    text = re.sub(r'\\S+@\\S+', '', text)      # Emails\n",
    "    text = re.sub(r'@\\w+', '', text)         # Twitter handles\n",
    "\n",
    "    # Remove URLs\n",
    "    text = re.sub(r'http\\S+', '', text)\n",
    "    text = re.sub(r'www\\.\\S+', '', text)\n",
    "\n",
    "    # Remove source tags and image captions\n",
    "    text = re.sub(r'\\(Reuters\\)|\\(AP\\)|\\(Getty.*?\\)', '', text)\n",
    "    text = re.sub(r'Scroll down for .*?(\\.|\\n)', '', text, flags=re.IGNORECASE)\n",
    "\n",
    "    # Remove redundant phrases\n",
    "    text = re.sub(r'(Read more at|Full story|Related Articles).*?(\\n|$)', '', text, flags=re.IGNORECASE)\n",
    "\n",
    "    # Remove attribution/contribution credits\n",
    "    text = re.sub(r'(contributed to this report.*?|with (additional )?reporting by.*?|reporting by .*?editing by .*?)\\.?', '', text, flags=re.IGNORECASE)\n",
    "\n",
    "    # Remove text in square or curly brackets\n",
    "    text = re.sub(r'\\[.*?\\]|\\{.*?\\}', '', text)\n",
    "\n",
    "    # Remove HTML tags\n",
    "    text = re.sub(r'<[^>]+>', '', text)\n",
    "\n",
    "    # Normalize whitespace and punctuation\n",
    "    text = re.sub(r'\\.{2,}', '.', text)\n",
    "    text = re.sub(r'\\s*\\|\\s*', ' ', text)\n",
    "    text = re.sub(r'\\s{2,}', ' ', text)\n",
    "    text = re.sub(r'\\n+', ' ', text)\n",
    "\n",
    "    return text.strip()"
   ]
  },
  {
   "cell_type": "code",
   "execution_count": 32,
   "id": "ce229adf",
   "metadata": {},
   "outputs": [
    {
     "data": {
      "text/html": [
       "<div><style>\n",
       ".dataframe > thead > tr,\n",
       ".dataframe > tbody > tr {\n",
       "  text-align: right;\n",
       "  white-space: pre-wrap;\n",
       "}\n",
       "</style>\n",
       "<small>shape: (5, 2)</small><table border=\"1\" class=\"dataframe\"><thead><tr><th>article</th><th>highlights</th></tr><tr><td>str</td><td>str</td></tr></thead><tbody><tr><td>&quot;LONDON, England -- Harry Potte…</td><td>&quot;Harry Potter star Daniel Radcl…</td></tr><tr><td>&quot;Editor&#x27;s note: In our Behind t…</td><td>&quot;Mentally ill inmates in Miami …</td></tr><tr><td>&quot;MINNEAPOLIS, Minnesota (CNN) -…</td><td>&quot;NEW: &quot;I thought I was going to…</td></tr><tr><td>&quot;WASHINGTON (CNN) -- Doctors re…</td><td>&quot;Five small polyps found during…</td></tr><tr><td>&quot;(CNN) -- The National Football…</td><td>&quot;NEW: NFL chief, Atlanta Falcon…</td></tr></tbody></table></div>"
      ],
      "text/plain": [
       "shape: (5, 2)\n",
       "┌─────────────────────────────────┬─────────────────────────────────┐\n",
       "│ article                         ┆ highlights                      │\n",
       "│ ---                             ┆ ---                             │\n",
       "│ str                             ┆ str                             │\n",
       "╞═════════════════════════════════╪═════════════════════════════════╡\n",
       "│ LONDON, England -- Harry Potte… ┆ Harry Potter star Daniel Radcl… │\n",
       "│ Editor's note: In our Behind t… ┆ Mentally ill inmates in Miami … │\n",
       "│ MINNEAPOLIS, Minnesota (CNN) -… ┆ NEW: \"I thought I was going to… │\n",
       "│ WASHINGTON (CNN) -- Doctors re… ┆ Five small polyps found during… │\n",
       "│ (CNN) -- The National Football… ┆ NEW: NFL chief, Atlanta Falcon… │\n",
       "└─────────────────────────────────┴─────────────────────────────────┘"
      ]
     },
     "execution_count": 32,
     "metadata": {},
     "output_type": "execute_result"
    }
   ],
   "source": [
    "dataset = dataset.with_columns(\n",
    "    polars.col('article').\n",
    "    map_elements(\n",
    "        function= lambda t: clean_article(t),\n",
    "        return_dtype=polars.Utf8 \n",
    "    ).\n",
    "    alias('article')\n",
    ")\n",
    "\n",
    "dataset.head()"
   ]
  },
  {
   "cell_type": "code",
   "execution_count": 33,
   "id": "6e220060",
   "metadata": {},
   "outputs": [],
   "source": [
    "dataset.write_csv('../../datasets/Cleaned News dataset.csv')"
   ]
  }
 ],
 "metadata": {
  "kernelspec": {
   "display_name": "Python 3",
   "language": "python",
   "name": "python3"
  },
  "language_info": {
   "codemirror_mode": {
    "name": "ipython",
    "version": 3
   },
   "file_extension": ".py",
   "mimetype": "text/x-python",
   "name": "python",
   "nbconvert_exporter": "python",
   "pygments_lexer": "ipython3",
   "version": "3.11.9"
  }
 },
 "nbformat": 4,
 "nbformat_minor": 5
}
